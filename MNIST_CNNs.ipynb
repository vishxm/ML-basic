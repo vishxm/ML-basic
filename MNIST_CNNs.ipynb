{
  "nbformat": 4,
  "nbformat_minor": 0,
  "metadata": {
    "colab": {
      "name": "MNIST_CNNs.ipynb",
      "provenance": [],
      "collapsed_sections": [],
      "authorship_tag": "ABX9TyPOsl5FLe+58nFAWspOWwQz",
      "include_colab_link": true
    },
    "kernelspec": {
      "name": "python3",
      "display_name": "Python 3"
    },
    "accelerator": "GPU"
  },
  "cells": [
    {
      "cell_type": "markdown",
      "metadata": {
        "id": "view-in-github",
        "colab_type": "text"
      },
      "source": [
        "<a href=\"https://colab.research.google.com/github/vishxm/DL-NBs/blob/main/MNIST_CNNs.ipynb\" target=\"_parent\"><img src=\"https://colab.research.google.com/assets/colab-badge.svg\" alt=\"Open In Colab\"/></a>"
      ]
    },
    {
      "cell_type": "markdown",
      "metadata": {
        "id": "q26gVa-tDh9P"
      },
      "source": [
        "# MNIST with CNNs"
      ]
    },
    {
      "cell_type": "markdown",
      "metadata": {
        "id": "gl1C58PoDlbP"
      },
      "source": [
        "## Importing libraries"
      ]
    },
    {
      "cell_type": "code",
      "metadata": {
        "id": "eBz-1mmQlJlu"
      },
      "source": [
        "import torch\n",
        "import torch.nn as nn\n",
        "import torch.nn.functional as F\n",
        "import torch.optim as optim\n",
        "from torchvision import datasets, transforms\n",
        "from torch.autograd import Variable\n",
        "import matplotlib.pyplot as plt\n",
        "import numpy as np\n",
        "import warnings\n",
        "warnings.filterwarnings(\"ignore\")"
      ],
      "execution_count": 16,
      "outputs": []
    },
    {
      "cell_type": "markdown",
      "metadata": {
        "id": "num5AbkUDtrc"
      },
      "source": [
        "## Creating the model for our neural network"
      ]
    },
    {
      "cell_type": "code",
      "metadata": {
        "id": "P0miShAQlaKs",
        "outputId": "2dd34c14-fb1c-4985-b37f-5d9c1524ff3a",
        "colab": {
          "base_uri": "https://localhost:8080/",
          "height": 121
        }
      },
      "source": [
        "class mnistModel(nn.Module): #inheriting from nn.Module class\n",
        "    def __init__(self):\n",
        "        super(mnistModel, self).__init__() \n",
        "        self.conv1 = nn.Conv2d(1, 32, 5, padding=2) ## in 1, out 32, with kernel size 5 and padding 2\n",
        "        self.conv2 = nn.Conv2d(32, 64, 5, padding=2) ## in 32, out 64, with kernel size 5 and padding 2\n",
        "        self.fc1 = nn.Linear(64*7*7, 1024) ## feature map size is 7*7 by pooling\n",
        "        self.fc2 = nn.Linear(1024, 10) \n",
        "\n",
        "    def forward(self, x):\n",
        "        x = F.max_pool2d(F.relu(self.conv1(x)), 2)\n",
        "        x = F.max_pool2d(F.relu(self.conv2(x)), 2)\n",
        "        x = x.view(-1, 64*7*7) #reshape\n",
        "        x = F.relu(self.fc1(x))\n",
        "        x = F.dropout(x, training=self.training)\n",
        "        x = self.fc2(x)\n",
        "        x = F.log_softmax(x)\n",
        "            \n",
        "        return x\n",
        "\n",
        "model = mnistModel()\n",
        "model.cuda()"
      ],
      "execution_count": 17,
      "outputs": [
        {
          "output_type": "execute_result",
          "data": {
            "text/plain": [
              "mnistModel(\n",
              "  (conv1): Conv2d(1, 32, kernel_size=(5, 5), stride=(1, 1), padding=(2, 2))\n",
              "  (conv2): Conv2d(32, 64, kernel_size=(5, 5), stride=(1, 1), padding=(2, 2))\n",
              "  (fc1): Linear(in_features=3136, out_features=1024, bias=True)\n",
              "  (fc2): Linear(in_features=1024, out_features=10, bias=True)\n",
              ")"
            ]
          },
          "metadata": {
            "tags": []
          },
          "execution_count": 17
        }
      ]
    },
    {
      "cell_type": "markdown",
      "metadata": {
        "id": "oZ5rwIxYD014"
      },
      "source": [
        "## Defining train and test data loader"
      ]
    },
    {
      "cell_type": "code",
      "metadata": {
        "id": "LGyMkVC5lb_d"
      },
      "source": [
        "batch_size = 50\n",
        "train_loader = torch.utils.data.DataLoader(\n",
        "    datasets.MNIST('data', train=True, download=True, transform=transforms.ToTensor()),\n",
        "    batch_size=batch_size, shuffle=True\n",
        ")"
      ],
      "execution_count": 18,
      "outputs": []
    },
    {
      "cell_type": "code",
      "metadata": {
        "id": "dwXh7EYild9I"
      },
      "source": [
        "test_loader = torch.utils.data.DataLoader(\n",
        "    datasets.MNIST('data', train=False, transform=transforms.ToTensor()),\n",
        "    batch_size=1000\n",
        ")"
      ],
      "execution_count": 19,
      "outputs": []
    },
    {
      "cell_type": "code",
      "metadata": {
        "id": "ZUJNkkfAlgfS",
        "outputId": "f1bff04a-e2fa-4834-e048-e65dc44f4c88",
        "colab": {
          "base_uri": "https://localhost:8080/",
          "height": 156
        }
      },
      "source": [
        "for p in model.parameters():\n",
        "    print(p.size())"
      ],
      "execution_count": 20,
      "outputs": [
        {
          "output_type": "stream",
          "text": [
            "torch.Size([32, 1, 5, 5])\n",
            "torch.Size([32])\n",
            "torch.Size([64, 32, 5, 5])\n",
            "torch.Size([64])\n",
            "torch.Size([1024, 3136])\n",
            "torch.Size([1024])\n",
            "torch.Size([10, 1024])\n",
            "torch.Size([10])\n"
          ],
          "name": "stdout"
        }
      ]
    },
    {
      "cell_type": "code",
      "metadata": {
        "id": "yazfHlOVliKH"
      },
      "source": [
        "optimizer = optim.Adam(model.parameters(), lr=0.0001)"
      ],
      "execution_count": 21,
      "outputs": []
    },
    {
      "cell_type": "markdown",
      "metadata": {
        "id": "Wzb3G1ljD8or"
      },
      "source": [
        "## Training the model with 15 epochs"
      ]
    },
    {
      "cell_type": "code",
      "metadata": {
        "id": "bjw4E8K7ljma",
        "outputId": "c7c52552-b870-449e-9c12-d0afd229af5a",
        "colab": {
          "base_uri": "https://localhost:8080/",
          "height": 330
        }
      },
      "source": [
        "model.train()\n",
        "train_loss = []\n",
        "train_accu = []\n",
        "i = 0\n",
        "\n",
        "for epoch in range(15):\n",
        "    for data, target in train_loader:\n",
        "        data, target = Variable(data), Variable(target)\n",
        "        data, target = data.cuda(), target.cuda()\n",
        "        optimizer.zero_grad()\n",
        "        output = model(data)\n",
        "        loss = F.nll_loss(output, target)\n",
        "        loss.backward()\n",
        "        train_loss.append(loss.data)\n",
        "        optimizer.step()\n",
        "        prediction = output.data.max(1)[1]\n",
        "        accuracy = torch.true_divide(prediction.eq(target.data).sum() * 100,\n",
        "                            batch_size)\n",
        "        train_accu.append(accuracy)\n",
        "\n",
        "        if i%1000 == 0:\n",
        "            print(\"Train Step: {}\\tLoss: {:.3f}\\tAccuracy: {:.3f}\".format(i, loss.data, accuracy))\n",
        "\n",
        "        i += 1"
      ],
      "execution_count": 22,
      "outputs": [
        {
          "output_type": "stream",
          "text": [
            "Train Step: 0\tLoss: 2.314\tAccuracy: 6.000\n",
            "Train Step: 1000\tLoss: 0.121\tAccuracy: 96.000\n",
            "Train Step: 2000\tLoss: 0.145\tAccuracy: 92.000\n",
            "Train Step: 3000\tLoss: 0.007\tAccuracy: 100.000\n",
            "Train Step: 4000\tLoss: 0.032\tAccuracy: 100.000\n",
            "Train Step: 5000\tLoss: 0.063\tAccuracy: 96.000\n",
            "Train Step: 6000\tLoss: 0.095\tAccuracy: 96.000\n",
            "Train Step: 7000\tLoss: 0.066\tAccuracy: 96.000\n",
            "Train Step: 8000\tLoss: 0.029\tAccuracy: 98.000\n",
            "Train Step: 9000\tLoss: 0.008\tAccuracy: 100.000\n",
            "Train Step: 10000\tLoss: 0.004\tAccuracy: 100.000\n",
            "Train Step: 11000\tLoss: 0.006\tAccuracy: 100.000\n",
            "Train Step: 12000\tLoss: 0.007\tAccuracy: 100.000\n",
            "Train Step: 13000\tLoss: 0.005\tAccuracy: 100.000\n",
            "Train Step: 14000\tLoss: 0.002\tAccuracy: 100.000\n",
            "Train Step: 15000\tLoss: 0.031\tAccuracy: 98.000\n",
            "Train Step: 16000\tLoss: 0.003\tAccuracy: 100.000\n",
            "Train Step: 17000\tLoss: 0.001\tAccuracy: 100.000\n"
          ],
          "name": "stdout"
        }
      ]
    },
    {
      "cell_type": "code",
      "metadata": {
        "id": "33v0hsy7llAh",
        "outputId": "0ebbda6f-acb4-4c1e-82ba-7706f488edf4",
        "colab": {
          "base_uri": "https://localhost:8080/",
          "height": 34
        }
      },
      "source": [
        "torch.cuda.is_available()"
      ],
      "execution_count": 23,
      "outputs": [
        {
          "output_type": "execute_result",
          "data": {
            "text/plain": [
              "True"
            ]
          },
          "metadata": {
            "tags": []
          },
          "execution_count": 23
        }
      ]
    },
    {
      "cell_type": "code",
      "metadata": {
        "id": "12Whwy6znGWl",
        "outputId": "0d9f1e6c-bf26-45d7-c3f2-62ee1d7b7482",
        "colab": {
          "base_uri": "https://localhost:8080/",
          "height": 35
        }
      },
      "source": [
        "torch.cuda.get_device_name() #checking the GPU provided by Google Colab"
      ],
      "execution_count": 24,
      "outputs": [
        {
          "output_type": "execute_result",
          "data": {
            "application/vnd.google.colaboratory.intrinsic+json": {
              "type": "string"
            },
            "text/plain": [
              "'Tesla P100-PCIE-16GB'"
            ]
          },
          "metadata": {
            "tags": []
          },
          "execution_count": 24
        }
      ]
    },
    {
      "cell_type": "code",
      "metadata": {
        "id": "uZ5Wb1ASnI03",
        "outputId": "47eb7f19-902f-4155-82db-9ac039a2f4a2",
        "colab": {
          "base_uri": "https://localhost:8080/",
          "height": 282
        }
      },
      "source": [
        "plt.plot(np.arange(len(train_loss)), train_loss)"
      ],
      "execution_count": 25,
      "outputs": [
        {
          "output_type": "execute_result",
          "data": {
            "text/plain": [
              "[<matplotlib.lines.Line2D at 0x7f10c1881940>]"
            ]
          },
          "metadata": {
            "tags": []
          },
          "execution_count": 25
        },
        {
          "output_type": "display_data",
          "data": {
            "image/png": "[encoded data removed]",
            "text/plain": [
              "<Figure size 432x288 with 1 Axes>"
            ]
          },
          "metadata": {
            "tags": [],
            "needs_background": "light"
          }
        }
      ]
    },
    {
      "cell_type": "code",
      "metadata": {
        "id": "g1MS0RmOol2k",
        "outputId": "361d38b2-9d24-4945-d2ba-c7bc78d49e3a",
        "colab": {
          "base_uri": "https://localhost:8080/",
          "height": 282
        }
      },
      "source": [
        "plt.plot(np.arange(len(train_accu)), train_accu)"
      ],
      "execution_count": 26,
      "outputs": [
        {
          "output_type": "execute_result",
          "data": {
            "text/plain": [
              "[<matplotlib.lines.Line2D at 0x7f10c198d2b0>]"
            ]
          },
          "metadata": {
            "tags": []
          },
          "execution_count": 26
        },
        {
          "output_type": "display_data",
          "data": {
            "image/png": "[encoded data removed]",
            "text/plain": [
              "<Figure size 432x288 with 1 Axes>"
            ]
          },
          "metadata": {
            "tags": [],
            "needs_background": "light"
          }
        }
      ]
    },
    {
      "cell_type": "markdown",
      "metadata": {
        "id": "W53-IEggEGzM"
      },
      "source": [
        "## Evaluating the trained model"
      ]
    },
    {
      "cell_type": "code",
      "metadata": {
        "id": "_3z3pZDWo3-Q",
        "outputId": "67ad3c3a-dacf-4e52-a879-5f92aed7f742",
        "colab": {
          "base_uri": "https://localhost:8080/",
          "height": 69
        }
      },
      "source": [
        "model.eval()\n",
        "correct = 0\n",
        "\n",
        "for data, target in test_loader:\n",
        "    data, target = Variable(data, volatile=True).cuda(), Variable(target).cuda()\n",
        "    output = model(data)\n",
        "    prediction = output.data.max(1)[1]\n",
        "    correct += prediction.eq(target.data).sum()\n",
        "\n",
        "print(\"\\n\\nTest set Accuracy : {:.2f}%\".format(100. * correct / len(test_loader.dataset)))"
      ],
      "execution_count": 27,
      "outputs": [
        {
          "output_type": "stream",
          "text": [
            "\n",
            "\n",
            "Test set Accuracy : 99.23%\n"
          ],
          "name": "stdout"
        }
      ]
    },
    {
      "cell_type": "code",
      "metadata": {
        "id": "wtBRR7ippfg-"
      },
      "source": [
        ""
      ],
      "execution_count": 27,
      "outputs": []
    }
  ]
}