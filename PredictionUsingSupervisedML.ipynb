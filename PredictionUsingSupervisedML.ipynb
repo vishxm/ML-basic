{
  "nbformat": 4,
  "nbformat_minor": 0,
  "metadata": {
    "colab": {
      "name": "PredictionUsingSupervisedML.ipynb",
      "provenance": [],
      "collapsed_sections": [],
      "authorship_tag": "ABX9TyNdLrReVWlh5Nw3ZGkD36TA",
      "include_colab_link": true
    },
    "kernelspec": {
      "name": "python3",
      "display_name": "Python 3"
    }
  },
  "cells": [
    {
      "cell_type": "markdown",
      "metadata": {
        "id": "view-in-github",
        "colab_type": "text"
      },
      "source": [
        "<a href=\"https://colab.research.google.com/github/vishxm/ML-basic/blob/main/PredictionUsingSupervisedML.ipynb\" target=\"_parent\"><img src=\"https://colab.research.google.com/assets/colab-badge.svg\" alt=\"Open In Colab\"/></a>"
      ]
    },
    {
      "cell_type": "markdown",
      "metadata": {
        "id": "_-6nFJL15u83"
      },
      "source": [
        "# Prediction using Supervised Machine Learning Algorithm\n",
        "\n",
        "## Done by [Vishwas Modhera](https://www.linkedin.com/in/vishwas-modhera-a9b292162/) "
      ]
    },
    {
      "cell_type": "markdown",
      "metadata": {
        "id": "8Blzkavf6E8z"
      },
      "source": [
        "Importing the necessary libraries"
      ]
    },
    {
      "cell_type": "code",
      "metadata": {
        "id": "KKCojIbO4gyn"
      },
      "source": [
        "import pandas as pd\n",
        "import numpy as np\n",
        "import matplotlib.pyplot as plt\n",
        "import seaborn as sns\n",
        "\n",
        "%matplotlib inline"
      ],
      "execution_count": null,
      "outputs": []
    },
    {
      "cell_type": "markdown",
      "metadata": {
        "id": "rakC9yPh6JUt"
      },
      "source": [
        "Importing the dataset from where it is hosted using its URL"
      ]
    },
    {
      "cell_type": "code",
      "metadata": {
        "id": "vMWAgiuL5HmS"
      },
      "source": [
        "df = pd.read_csv(\"https://raw.githubusercontent.com/AdiPersonalWorks/Random/master/student_scores%20-%20student_scores.csv\", header=0)"
      ],
      "execution_count": null,
      "outputs": []
    },
    {
      "cell_type": "markdown",
      "metadata": {
        "id": "QBrj01ER6RCo"
      },
      "source": [
        "Printing first few lines, its shape and describing the distribution of values in it"
      ]
    },
    {
      "cell_type": "code",
      "metadata": {
        "id": "DMhDLh8U5QUh",
        "outputId": "df0fcd9c-b651-4be9-eb5f-7c233b14a749",
        "colab": {
          "base_uri": "https://localhost:8080/",
          "height": 319
        }
      },
      "source": [
        "print(df.head(), \"\\n\\n\",df.shape,\"\\n\\n\", df.describe())"
      ],
      "execution_count": null,
      "outputs": [
        {
          "output_type": "stream",
          "text": [
            "   Hours  Scores\n",
            "0    2.5      21\n",
            "1    5.1      47\n",
            "2    3.2      27\n",
            "3    8.5      75\n",
            "4    3.5      30 \n",
            "\n",
            " (25, 2) \n",
            "\n",
            "            Hours     Scores\n",
            "count  25.000000  25.000000\n",
            "mean    5.012000  51.480000\n",
            "std     2.525094  25.286887\n",
            "min     1.100000  17.000000\n",
            "25%     2.700000  30.000000\n",
            "50%     4.800000  47.000000\n",
            "75%     7.400000  75.000000\n",
            "max     9.200000  95.000000\n"
          ],
          "name": "stdout"
        }
      ]
    },
    {
      "cell_type": "markdown",
      "metadata": {
        "id": "mz8RyLym9bg3"
      },
      "source": [
        "We need implement Linear Regression now using Ordinary Least Squares Method."
      ]
    },
    {
      "cell_type": "markdown",
      "metadata": {
        "id": "zYD8Pf_I9sTR"
      },
      "source": [
        "![The Equations](https://miro.medium.com/max/203/1*O2xXpYS7A3VlLXqT6SNMLg.png)"
      ]
    },
    {
      "cell_type": "markdown",
      "metadata": {
        "id": "U1dWcAbFHbXD"
      },
      "source": [
        "Model preparation"
      ]
    },
    {
      "cell_type": "code",
      "metadata": {
        "id": "hX7Xaplb5WkV"
      },
      "source": [
        "X = df['Hours'].values\n",
        "y = df['Scores'].values"
      ],
      "execution_count": null,
      "outputs": []
    },
    {
      "cell_type": "code",
      "metadata": {
        "id": "W8V7Q0kd8AQv"
      },
      "source": [
        "X_mean = X.mean()\n",
        "y_mean = y.mean()"
      ],
      "execution_count": null,
      "outputs": []
    },
    {
      "cell_type": "code",
      "metadata": {
        "id": "kTeZ-F1b8Y8e"
      },
      "source": [
        "n = df.shape[0]"
      ],
      "execution_count": null,
      "outputs": []
    },
    {
      "cell_type": "code",
      "metadata": {
        "id": "Fg3LYtcL8v3n"
      },
      "source": [
        "num = 0\n",
        "den = 0\n",
        "\n",
        "for i in range(n):\n",
        "    num += (X[i] - X_mean)*(y[i] - y_mean)\n",
        "    den += (X[i] - x_mean)**2"
      ],
      "execution_count": null,
      "outputs": []
    },
    {
      "cell_type": "code",
      "metadata": {
        "id": "vGcuKE6_8_vo"
      },
      "source": [
        "b1 = num/den\n",
        "b0 = y_mean - (b1 * X_mean)"
      ],
      "execution_count": null,
      "outputs": []
    },
    {
      "cell_type": "code",
      "metadata": {
        "id": "9Edp9Xx3-Q8a",
        "outputId": "b720ffa1-94c6-4080-fab3-6deb81adb757",
        "colab": {
          "base_uri": "https://localhost:8080/",
          "height": 34
        }
      },
      "source": [
        "print(b1, b0)"
      ],
      "execution_count": null,
      "outputs": [
        {
          "output_type": "stream",
          "text": [
            "9.775803390787475 2.4836734053731746\n"
          ],
          "name": "stdout"
        }
      ]
    },
    {
      "cell_type": "markdown",
      "metadata": {
        "id": "Aqwg7iQb-TEJ"
      },
      "source": [
        "These are our parameters for the regression line."
      ]
    },
    {
      "cell_type": "markdown",
      "metadata": {
        "id": "4fqu41P4HfYp"
      },
      "source": [
        "Model Prediction"
      ]
    },
    {
      "cell_type": "code",
      "metadata": {
        "id": "EZa42CdkAWOf"
      },
      "source": [
        "y_pred = [b0 + b1*i for i in X]"
      ],
      "execution_count": null,
      "outputs": []
    },
    {
      "cell_type": "code",
      "metadata": {
        "id": "vxefmDfJAFW5",
        "outputId": "ab99b2b5-47d2-4ac8-8604-9ec2b82006c9",
        "colab": {
          "base_uri": "https://localhost:8080/",
          "height": 295
        }
      },
      "source": [
        "sns.lineplot(x=X, y=y_pred, label='Predicted')\n",
        "sns.scatterplot(x=X, y=y, label='Actual')\n",
        "plt.title('Hours vs Scores graph')\n",
        "plt.xlabel('Hours')\n",
        "plt.ylabel('Scores')\n",
        "plt.show()"
      ],
      "execution_count": null,
      "outputs": [
        {
          "output_type": "display_data",
          "data": {
            "image/png": "[encoded data removed]",
            "text/plain": [
              "<Figure size 432x288 with 1 Axes>"
            ]
          },
          "metadata": {
            "tags": [],
            "needs_background": "light"
          }
        }
      ]
    },
    {
      "cell_type": "markdown",
      "metadata": {
        "id": "6a9otZpn-YRo"
      },
      "source": [
        "Now suppose if a student spent 9.25 hours a day studying, the score obtained will be given by b0 + b1*9.25"
      ]
    },
    {
      "cell_type": "code",
      "metadata": {
        "id": "f0KbRfUO-wvh",
        "outputId": "aaa01223-f90d-471a-ed56-b9602491394f",
        "colab": {
          "base_uri": "https://localhost:8080/",
          "height": 34
        }
      },
      "source": [
        "print(f'The score obtained when spent 9.25 hours a day studying is {b0 + b1*9.25}')"
      ],
      "execution_count": null,
      "outputs": [
        {
          "output_type": "stream",
          "text": [
            "The score obtained when spent 9.25 hours a day studying is 92.90985477015732\n"
          ],
          "name": "stdout"
        }
      ]
    },
    {
      "cell_type": "markdown",
      "metadata": {
        "id": "F9fF5F4Q-8nK"
      },
      "source": [
        "Now lets implement LinearRegression from sklearn"
      ]
    },
    {
      "cell_type": "markdown",
      "metadata": {
        "id": "cyQ6GjLRHlnZ"
      },
      "source": [
        "Model training"
      ]
    },
    {
      "cell_type": "code",
      "metadata": {
        "id": "hXv_LjAH_Ito"
      },
      "source": [
        "from sklearn.linear_model import LinearRegression\n",
        "\n",
        "lr = LinearRegression()\n",
        "X = X.reshape(-1,1)\n",
        "y = y.reshape(-1,1)\n",
        "lr = lr.fit(X, y)"
      ],
      "execution_count": null,
      "outputs": []
    },
    {
      "cell_type": "markdown",
      "metadata": {
        "id": "P0NikurEHonY"
      },
      "source": [
        "Model Prediction"
      ]
    },
    {
      "cell_type": "code",
      "metadata": {
        "id": "4WvQrT9M_aFB",
        "outputId": "40fdb181-1629-42c3-9ee2-fdfed257d4a2",
        "colab": {
          "base_uri": "https://localhost:8080/",
          "height": 34
        }
      },
      "source": [
        "lr.predict(np.array([9.25]).reshape(-1,1))"
      ],
      "execution_count": null,
      "outputs": [
        {
          "output_type": "execute_result",
          "data": {
            "text/plain": [
              "array([[92.90985477]])"
            ]
          },
          "metadata": {
            "tags": []
          },
          "execution_count": 77
        }
      ]
    },
    {
      "cell_type": "markdown",
      "metadata": {
        "id": "pJoUNuCbA4jK"
      },
      "source": [
        "This is very close to what we found out by implementing the equation."
      ]
    },
    {
      "cell_type": "markdown",
      "metadata": {
        "id": "PsLGhi3BBYCn"
      },
      "source": [
        "Now let's find out the accuracy of both the models by splitting the dataset available to us."
      ]
    },
    {
      "cell_type": "code",
      "metadata": {
        "id": "VRqf8SMZCyfL"
      },
      "source": [
        "from sklearn.model_selection import train_test_split\n",
        "\n",
        "X_train, X_test, y_train, y_test = train_test_split(X, y, test_size=0.2)\n",
        "\n",
        "lr = LinearRegression()\n",
        "lr = lr.fit(X_train, y_train)\n",
        "y_pred = lr.predict(X_test)\n"
      ],
      "execution_count": null,
      "outputs": []
    },
    {
      "cell_type": "code",
      "metadata": {
        "id": "hM-kH2MpDp-z",
        "outputId": "0aa70d39-ff4d-4098-c12b-2f2ecbe14a01",
        "colab": {
          "base_uri": "https://localhost:8080/",
          "height": 34
        }
      },
      "source": [
        "from sklearn import metrics\n",
        "\n",
        "print(\"MSE for sklearn trained model : \", metrics.mean_absolute_error(y_test, y_pred))"
      ],
      "execution_count": null,
      "outputs": [
        {
          "output_type": "stream",
          "text": [
            "MSE for sklearn trained model :  4.377462016223005\n"
          ],
          "name": "stdout"
        }
      ]
    },
    {
      "cell_type": "code",
      "metadata": {
        "id": "P-_ctPi2FAlv",
        "outputId": "e8919c86-b8ad-4e8d-b80d-192a580cd265",
        "colab": {
          "base_uri": "https://localhost:8080/",
          "height": 34
        }
      },
      "source": [
        "manual_y_pred = [b0 + b1*i for i in X_test]\n",
        "print(\"MSE for manually trained model : \", metrics.mean_absolute_error(y_test, manual_y_pred))"
      ],
      "execution_count": null,
      "outputs": [
        {
          "output_type": "stream",
          "text": [
            "MSE for manually trained model :  3.7976145292576957\n"
          ],
          "name": "stdout"
        }
      ]
    },
    {
      "cell_type": "markdown",
      "metadata": {
        "id": "WF9AsZQ6FXlh"
      },
      "source": [
        "Wow, so manually trained model (coefficients) were more accurate. Generally, sklearn model is accurate when more data is present.  "
      ]
    }
  ]
}